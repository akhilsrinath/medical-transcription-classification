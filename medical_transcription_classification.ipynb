{
  "nbformat": 4,
  "nbformat_minor": 0,
  "metadata": {
    "colab": {
      "name": "medical_transcription_classification.ipynb",
      "provenance": [],
      "authorship_tag": "ABX9TyNF7zWZrGeTT8y4vfbLMjhM",
      "include_colab_link": true
    },
    "kernelspec": {
      "name": "python3",
      "display_name": "Python 3"
    },
    "language_info": {
      "name": "python"
    },
    "widgets": {
      "application/vnd.jupyter.widget-state+json": {
        "36528433e04140079ad01e3af1bf4ee8": {
          "model_module": "@jupyter-widgets/controls",
          "model_name": "HBoxModel",
          "model_module_version": "1.5.0",
          "state": {
            "_view_name": "HBoxView",
            "_dom_classes": [],
            "_model_name": "HBoxModel",
            "_view_module": "@jupyter-widgets/controls",
            "_model_module_version": "1.5.0",
            "_view_count": null,
            "_view_module_version": "1.5.0",
            "box_style": "",
            "layout": "IPY_MODEL_27740b36b25c44ef93776c1d4c2fc6fb",
            "_model_module": "@jupyter-widgets/controls",
            "children": [
              "IPY_MODEL_873530ced152468db80da17e1e238274",
              "IPY_MODEL_61fa70556e194524b53bb699d2e59c13",
              "IPY_MODEL_2455021a25bf4afbaf38e6d8e8f16b02"
            ]
          }
        },
        "27740b36b25c44ef93776c1d4c2fc6fb": {
          "model_module": "@jupyter-widgets/base",
          "model_name": "LayoutModel",
          "model_module_version": "1.2.0",
          "state": {
            "_view_name": "LayoutView",
            "grid_template_rows": null,
            "right": null,
            "justify_content": null,
            "_view_module": "@jupyter-widgets/base",
            "overflow": null,
            "_model_module_version": "1.2.0",
            "_view_count": null,
            "flex_flow": null,
            "width": null,
            "min_width": null,
            "border": null,
            "align_items": null,
            "bottom": null,
            "_model_module": "@jupyter-widgets/base",
            "top": null,
            "grid_column": null,
            "overflow_y": null,
            "overflow_x": null,
            "grid_auto_flow": null,
            "grid_area": null,
            "grid_template_columns": null,
            "flex": null,
            "_model_name": "LayoutModel",
            "justify_items": null,
            "grid_row": null,
            "max_height": null,
            "align_content": null,
            "visibility": null,
            "align_self": null,
            "height": null,
            "min_height": null,
            "padding": null,
            "grid_auto_rows": null,
            "grid_gap": null,
            "max_width": null,
            "order": null,
            "_view_module_version": "1.2.0",
            "grid_template_areas": null,
            "object_position": null,
            "object_fit": null,
            "grid_auto_columns": null,
            "margin": null,
            "display": null,
            "left": null
          }
        },
        "873530ced152468db80da17e1e238274": {
          "model_module": "@jupyter-widgets/controls",
          "model_name": "HTMLModel",
          "model_module_version": "1.5.0",
          "state": {
            "_view_name": "HTMLView",
            "style": "IPY_MODEL_35f8ddca458e4fe9b45abb63f0123c52",
            "_dom_classes": [],
            "description": "",
            "_model_name": "HTMLModel",
            "placeholder": "​",
            "_view_module": "@jupyter-widgets/controls",
            "_model_module_version": "1.5.0",
            "value": "100%",
            "_view_count": null,
            "_view_module_version": "1.5.0",
            "description_tooltip": null,
            "_model_module": "@jupyter-widgets/controls",
            "layout": "IPY_MODEL_90f2fce59e374130be0351d4a5185ff1"
          }
        },
        "61fa70556e194524b53bb699d2e59c13": {
          "model_module": "@jupyter-widgets/controls",
          "model_name": "FloatProgressModel",
          "model_module_version": "1.5.0",
          "state": {
            "_view_name": "ProgressView",
            "style": "IPY_MODEL_715cf0fecea64903b891968e2d8151c8",
            "_dom_classes": [],
            "description": "",
            "_model_name": "FloatProgressModel",
            "bar_style": "success",
            "max": 4,
            "_view_module": "@jupyter-widgets/controls",
            "_model_module_version": "1.5.0",
            "value": 4,
            "_view_count": null,
            "_view_module_version": "1.5.0",
            "orientation": "horizontal",
            "min": 0,
            "description_tooltip": null,
            "_model_module": "@jupyter-widgets/controls",
            "layout": "IPY_MODEL_d16e54ba9c79468da5b62eda3777456f"
          }
        },
        "2455021a25bf4afbaf38e6d8e8f16b02": {
          "model_module": "@jupyter-widgets/controls",
          "model_name": "HTMLModel",
          "model_module_version": "1.5.0",
          "state": {
            "_view_name": "HTMLView",
            "style": "IPY_MODEL_07a49b30aa4f4776814da1b15fb3e3a7",
            "_dom_classes": [],
            "description": "",
            "_model_name": "HTMLModel",
            "placeholder": "​",
            "_view_module": "@jupyter-widgets/controls",
            "_model_module_version": "1.5.0",
            "value": " 4/4 [00:00&lt;00:00, 77.49it/s]",
            "_view_count": null,
            "_view_module_version": "1.5.0",
            "description_tooltip": null,
            "_model_module": "@jupyter-widgets/controls",
            "layout": "IPY_MODEL_4e133dfe77054ede85e0039601da52d3"
          }
        },
        "35f8ddca458e4fe9b45abb63f0123c52": {
          "model_module": "@jupyter-widgets/controls",
          "model_name": "DescriptionStyleModel",
          "model_module_version": "1.5.0",
          "state": {
            "_view_name": "StyleView",
            "_model_name": "DescriptionStyleModel",
            "description_width": "",
            "_view_module": "@jupyter-widgets/base",
            "_model_module_version": "1.5.0",
            "_view_count": null,
            "_view_module_version": "1.2.0",
            "_model_module": "@jupyter-widgets/controls"
          }
        },
        "90f2fce59e374130be0351d4a5185ff1": {
          "model_module": "@jupyter-widgets/base",
          "model_name": "LayoutModel",
          "model_module_version": "1.2.0",
          "state": {
            "_view_name": "LayoutView",
            "grid_template_rows": null,
            "right": null,
            "justify_content": null,
            "_view_module": "@jupyter-widgets/base",
            "overflow": null,
            "_model_module_version": "1.2.0",
            "_view_count": null,
            "flex_flow": null,
            "width": null,
            "min_width": null,
            "border": null,
            "align_items": null,
            "bottom": null,
            "_model_module": "@jupyter-widgets/base",
            "top": null,
            "grid_column": null,
            "overflow_y": null,
            "overflow_x": null,
            "grid_auto_flow": null,
            "grid_area": null,
            "grid_template_columns": null,
            "flex": null,
            "_model_name": "LayoutModel",
            "justify_items": null,
            "grid_row": null,
            "max_height": null,
            "align_content": null,
            "visibility": null,
            "align_self": null,
            "height": null,
            "min_height": null,
            "padding": null,
            "grid_auto_rows": null,
            "grid_gap": null,
            "max_width": null,
            "order": null,
            "_view_module_version": "1.2.0",
            "grid_template_areas": null,
            "object_position": null,
            "object_fit": null,
            "grid_auto_columns": null,
            "margin": null,
            "display": null,
            "left": null
          }
        },
        "715cf0fecea64903b891968e2d8151c8": {
          "model_module": "@jupyter-widgets/controls",
          "model_name": "ProgressStyleModel",
          "model_module_version": "1.5.0",
          "state": {
            "_view_name": "StyleView",
            "_model_name": "ProgressStyleModel",
            "description_width": "",
            "_view_module": "@jupyter-widgets/base",
            "_model_module_version": "1.5.0",
            "_view_count": null,
            "_view_module_version": "1.2.0",
            "bar_color": null,
            "_model_module": "@jupyter-widgets/controls"
          }
        },
        "d16e54ba9c79468da5b62eda3777456f": {
          "model_module": "@jupyter-widgets/base",
          "model_name": "LayoutModel",
          "model_module_version": "1.2.0",
          "state": {
            "_view_name": "LayoutView",
            "grid_template_rows": null,
            "right": null,
            "justify_content": null,
            "_view_module": "@jupyter-widgets/base",
            "overflow": null,
            "_model_module_version": "1.2.0",
            "_view_count": null,
            "flex_flow": null,
            "width": null,
            "min_width": null,
            "border": null,
            "align_items": null,
            "bottom": null,
            "_model_module": "@jupyter-widgets/base",
            "top": null,
            "grid_column": null,
            "overflow_y": null,
            "overflow_x": null,
            "grid_auto_flow": null,
            "grid_area": null,
            "grid_template_columns": null,
            "flex": null,
            "_model_name": "LayoutModel",
            "justify_items": null,
            "grid_row": null,
            "max_height": null,
            "align_content": null,
            "visibility": null,
            "align_self": null,
            "height": null,
            "min_height": null,
            "padding": null,
            "grid_auto_rows": null,
            "grid_gap": null,
            "max_width": null,
            "order": null,
            "_view_module_version": "1.2.0",
            "grid_template_areas": null,
            "object_position": null,
            "object_fit": null,
            "grid_auto_columns": null,
            "margin": null,
            "display": null,
            "left": null
          }
        },
        "07a49b30aa4f4776814da1b15fb3e3a7": {
          "model_module": "@jupyter-widgets/controls",
          "model_name": "DescriptionStyleModel",
          "model_module_version": "1.5.0",
          "state": {
            "_view_name": "StyleView",
            "_model_name": "DescriptionStyleModel",
            "description_width": "",
            "_view_module": "@jupyter-widgets/base",
            "_model_module_version": "1.5.0",
            "_view_count": null,
            "_view_module_version": "1.2.0",
            "_model_module": "@jupyter-widgets/controls"
          }
        },
        "4e133dfe77054ede85e0039601da52d3": {
          "model_module": "@jupyter-widgets/base",
          "model_name": "LayoutModel",
          "model_module_version": "1.2.0",
          "state": {
            "_view_name": "LayoutView",
            "grid_template_rows": null,
            "right": null,
            "justify_content": null,
            "_view_module": "@jupyter-widgets/base",
            "overflow": null,
            "_model_module_version": "1.2.0",
            "_view_count": null,
            "flex_flow": null,
            "width": null,
            "min_width": null,
            "border": null,
            "align_items": null,
            "bottom": null,
            "_model_module": "@jupyter-widgets/base",
            "top": null,
            "grid_column": null,
            "overflow_y": null,
            "overflow_x": null,
            "grid_auto_flow": null,
            "grid_area": null,
            "grid_template_columns": null,
            "flex": null,
            "_model_name": "LayoutModel",
            "justify_items": null,
            "grid_row": null,
            "max_height": null,
            "align_content": null,
            "visibility": null,
            "align_self": null,
            "height": null,
            "min_height": null,
            "padding": null,
            "grid_auto_rows": null,
            "grid_gap": null,
            "max_width": null,
            "order": null,
            "_view_module_version": "1.2.0",
            "grid_template_areas": null,
            "object_position": null,
            "object_fit": null,
            "grid_auto_columns": null,
            "margin": null,
            "display": null,
            "left": null
          }
        },
        "b28fe59835bc4b4ebec4fc7e19eb22e9": {
          "model_module": "@jupyter-widgets/controls",
          "model_name": "HBoxModel",
          "model_module_version": "1.5.0",
          "state": {
            "_view_name": "HBoxView",
            "_dom_classes": [],
            "_model_name": "HBoxModel",
            "_view_module": "@jupyter-widgets/controls",
            "_model_module_version": "1.5.0",
            "_view_count": null,
            "_view_module_version": "1.5.0",
            "box_style": "",
            "layout": "IPY_MODEL_c16358db5b3b474cbdfe9c77047e9224",
            "_model_module": "@jupyter-widgets/controls",
            "children": [
              "IPY_MODEL_9830aae6ede1400891159ed5944b5772",
              "IPY_MODEL_e351dca68edf42fba5afbfe9fe3fa313",
              "IPY_MODEL_9ed0bc6ce1f842d79619b76b8ee34e64"
            ]
          }
        },
        "c16358db5b3b474cbdfe9c77047e9224": {
          "model_module": "@jupyter-widgets/base",
          "model_name": "LayoutModel",
          "model_module_version": "1.2.0",
          "state": {
            "_view_name": "LayoutView",
            "grid_template_rows": null,
            "right": null,
            "justify_content": null,
            "_view_module": "@jupyter-widgets/base",
            "overflow": null,
            "_model_module_version": "1.2.0",
            "_view_count": null,
            "flex_flow": null,
            "width": null,
            "min_width": null,
            "border": null,
            "align_items": null,
            "bottom": null,
            "_model_module": "@jupyter-widgets/base",
            "top": null,
            "grid_column": null,
            "overflow_y": null,
            "overflow_x": null,
            "grid_auto_flow": null,
            "grid_area": null,
            "grid_template_columns": null,
            "flex": null,
            "_model_name": "LayoutModel",
            "justify_items": null,
            "grid_row": null,
            "max_height": null,
            "align_content": null,
            "visibility": null,
            "align_self": null,
            "height": null,
            "min_height": null,
            "padding": null,
            "grid_auto_rows": null,
            "grid_gap": null,
            "max_width": null,
            "order": null,
            "_view_module_version": "1.2.0",
            "grid_template_areas": null,
            "object_position": null,
            "object_fit": null,
            "grid_auto_columns": null,
            "margin": null,
            "display": null,
            "left": null
          }
        },
        "9830aae6ede1400891159ed5944b5772": {
          "model_module": "@jupyter-widgets/controls",
          "model_name": "HTMLModel",
          "model_module_version": "1.5.0",
          "state": {
            "_view_name": "HTMLView",
            "style": "IPY_MODEL_5f601231e9a843dcbca978405f0213f7",
            "_dom_classes": [],
            "description": "",
            "_model_name": "HTMLModel",
            "placeholder": "​",
            "_view_module": "@jupyter-widgets/controls",
            "_model_module_version": "1.5.0",
            "value": "100%",
            "_view_count": null,
            "_view_module_version": "1.5.0",
            "description_tooltip": null,
            "_model_module": "@jupyter-widgets/controls",
            "layout": "IPY_MODEL_2488bc6ec24549f9ac0b16526ff93f95"
          }
        },
        "e351dca68edf42fba5afbfe9fe3fa313": {
          "model_module": "@jupyter-widgets/controls",
          "model_name": "FloatProgressModel",
          "model_module_version": "1.5.0",
          "state": {
            "_view_name": "ProgressView",
            "style": "IPY_MODEL_19034c1405eb43668bdd0706122f3493",
            "_dom_classes": [],
            "description": "",
            "_model_name": "FloatProgressModel",
            "bar_style": "success",
            "max": 4966,
            "_view_module": "@jupyter-widgets/controls",
            "_model_module_version": "1.5.0",
            "value": 4966,
            "_view_count": null,
            "_view_module_version": "1.5.0",
            "orientation": "horizontal",
            "min": 0,
            "description_tooltip": null,
            "_model_module": "@jupyter-widgets/controls",
            "layout": "IPY_MODEL_a7b2d25f3e9a426e962f8c54d2431c06"
          }
        },
        "9ed0bc6ce1f842d79619b76b8ee34e64": {
          "model_module": "@jupyter-widgets/controls",
          "model_name": "HTMLModel",
          "model_module_version": "1.5.0",
          "state": {
            "_view_name": "HTMLView",
            "style": "IPY_MODEL_14ab8224ec764b89a11c40b6f79216a2",
            "_dom_classes": [],
            "description": "",
            "_model_name": "HTMLModel",
            "placeholder": "​",
            "_view_module": "@jupyter-widgets/controls",
            "_model_module_version": "1.5.0",
            "value": " 4966/4966 [00:30&lt;00:00, 134.99it/s]",
            "_view_count": null,
            "_view_module_version": "1.5.0",
            "description_tooltip": null,
            "_model_module": "@jupyter-widgets/controls",
            "layout": "IPY_MODEL_5281c3ea34c34cc8ab15096178ca8807"
          }
        },
        "5f601231e9a843dcbca978405f0213f7": {
          "model_module": "@jupyter-widgets/controls",
          "model_name": "DescriptionStyleModel",
          "model_module_version": "1.5.0",
          "state": {
            "_view_name": "StyleView",
            "_model_name": "DescriptionStyleModel",
            "description_width": "",
            "_view_module": "@jupyter-widgets/base",
            "_model_module_version": "1.5.0",
            "_view_count": null,
            "_view_module_version": "1.2.0",
            "_model_module": "@jupyter-widgets/controls"
          }
        },
        "2488bc6ec24549f9ac0b16526ff93f95": {
          "model_module": "@jupyter-widgets/base",
          "model_name": "LayoutModel",
          "model_module_version": "1.2.0",
          "state": {
            "_view_name": "LayoutView",
            "grid_template_rows": null,
            "right": null,
            "justify_content": null,
            "_view_module": "@jupyter-widgets/base",
            "overflow": null,
            "_model_module_version": "1.2.0",
            "_view_count": null,
            "flex_flow": null,
            "width": null,
            "min_width": null,
            "border": null,
            "align_items": null,
            "bottom": null,
            "_model_module": "@jupyter-widgets/base",
            "top": null,
            "grid_column": null,
            "overflow_y": null,
            "overflow_x": null,
            "grid_auto_flow": null,
            "grid_area": null,
            "grid_template_columns": null,
            "flex": null,
            "_model_name": "LayoutModel",
            "justify_items": null,
            "grid_row": null,
            "max_height": null,
            "align_content": null,
            "visibility": null,
            "align_self": null,
            "height": null,
            "min_height": null,
            "padding": null,
            "grid_auto_rows": null,
            "grid_gap": null,
            "max_width": null,
            "order": null,
            "_view_module_version": "1.2.0",
            "grid_template_areas": null,
            "object_position": null,
            "object_fit": null,
            "grid_auto_columns": null,
            "margin": null,
            "display": null,
            "left": null
          }
        },
        "19034c1405eb43668bdd0706122f3493": {
          "model_module": "@jupyter-widgets/controls",
          "model_name": "ProgressStyleModel",
          "model_module_version": "1.5.0",
          "state": {
            "_view_name": "StyleView",
            "_model_name": "ProgressStyleModel",
            "description_width": "",
            "_view_module": "@jupyter-widgets/base",
            "_model_module_version": "1.5.0",
            "_view_count": null,
            "_view_module_version": "1.2.0",
            "bar_color": null,
            "_model_module": "@jupyter-widgets/controls"
          }
        },
        "a7b2d25f3e9a426e962f8c54d2431c06": {
          "model_module": "@jupyter-widgets/base",
          "model_name": "LayoutModel",
          "model_module_version": "1.2.0",
          "state": {
            "_view_name": "LayoutView",
            "grid_template_rows": null,
            "right": null,
            "justify_content": null,
            "_view_module": "@jupyter-widgets/base",
            "overflow": null,
            "_model_module_version": "1.2.0",
            "_view_count": null,
            "flex_flow": null,
            "width": null,
            "min_width": null,
            "border": null,
            "align_items": null,
            "bottom": null,
            "_model_module": "@jupyter-widgets/base",
            "top": null,
            "grid_column": null,
            "overflow_y": null,
            "overflow_x": null,
            "grid_auto_flow": null,
            "grid_area": null,
            "grid_template_columns": null,
            "flex": null,
            "_model_name": "LayoutModel",
            "justify_items": null,
            "grid_row": null,
            "max_height": null,
            "align_content": null,
            "visibility": null,
            "align_self": null,
            "height": null,
            "min_height": null,
            "padding": null,
            "grid_auto_rows": null,
            "grid_gap": null,
            "max_width": null,
            "order": null,
            "_view_module_version": "1.2.0",
            "grid_template_areas": null,
            "object_position": null,
            "object_fit": null,
            "grid_auto_columns": null,
            "margin": null,
            "display": null,
            "left": null
          }
        },
        "14ab8224ec764b89a11c40b6f79216a2": {
          "model_module": "@jupyter-widgets/controls",
          "model_name": "DescriptionStyleModel",
          "model_module_version": "1.5.0",
          "state": {
            "_view_name": "StyleView",
            "_model_name": "DescriptionStyleModel",
            "description_width": "",
            "_view_module": "@jupyter-widgets/base",
            "_model_module_version": "1.5.0",
            "_view_count": null,
            "_view_module_version": "1.2.0",
            "_model_module": "@jupyter-widgets/controls"
          }
        },
        "5281c3ea34c34cc8ab15096178ca8807": {
          "model_module": "@jupyter-widgets/base",
          "model_name": "LayoutModel",
          "model_module_version": "1.2.0",
          "state": {
            "_view_name": "LayoutView",
            "grid_template_rows": null,
            "right": null,
            "justify_content": null,
            "_view_module": "@jupyter-widgets/base",
            "overflow": null,
            "_model_module_version": "1.2.0",
            "_view_count": null,
            "flex_flow": null,
            "width": null,
            "min_width": null,
            "border": null,
            "align_items": null,
            "bottom": null,
            "_model_module": "@jupyter-widgets/base",
            "top": null,
            "grid_column": null,
            "overflow_y": null,
            "overflow_x": null,
            "grid_auto_flow": null,
            "grid_area": null,
            "grid_template_columns": null,
            "flex": null,
            "_model_name": "LayoutModel",
            "justify_items": null,
            "grid_row": null,
            "max_height": null,
            "align_content": null,
            "visibility": null,
            "align_self": null,
            "height": null,
            "min_height": null,
            "padding": null,
            "grid_auto_rows": null,
            "grid_gap": null,
            "max_width": null,
            "order": null,
            "_view_module_version": "1.2.0",
            "grid_template_areas": null,
            "object_position": null,
            "object_fit": null,
            "grid_auto_columns": null,
            "margin": null,
            "display": null,
            "left": null
          }
        }
      }
    }
  },
  "cells": [
    {
      "cell_type": "markdown",
      "metadata": {
        "id": "view-in-github",
        "colab_type": "text"
      },
      "source": [
        "<a href=\"https://colab.research.google.com/github/akhilsrinath/medical-transcription-classification/blob/main/medical_transcription_classification.ipynb\" target=\"_parent\"><img src=\"https://colab.research.google.com/assets/colab-badge.svg\" alt=\"Open In Colab\"/></a>"
      ]
    },
    {
      "cell_type": "markdown",
      "source": [
        "## **Dataset**\n",
        "\n",
        "The dataset contains sample medical transcriptions for various medical specialties.\n",
        "\n",
        "This data was scraped from mtsamples.com. \n",
        "\n",
        "Link: https://www.kaggle.com/tboyle10/medicaltranscriptions \n",
        "\n"
      ],
      "metadata": {
        "id": "xApzfqi5bKX7"
      }
    },
    {
      "cell_type": "markdown",
      "source": [
        "### **Problem statement**\n",
        "\n",
        "Can we build a classification model that can classify each medical transciption to its specific speciality?\n",
        "\n"
      ],
      "metadata": {
        "id": "l27bExqtcjhf"
      }
    },
    {
      "cell_type": "markdown",
      "source": [
        "#### Importing libraries "
      ],
      "metadata": {
        "id": "jNWrB98Oc_s8"
      }
    },
    {
      "cell_type": "code",
      "source": [
        "import nltk \n",
        "nltk.download('punkt')"
      ],
      "metadata": {
        "colab": {
          "base_uri": "https://localhost:8080/"
        },
        "id": "4s9EPgX7vQb1",
        "outputId": "38906a62-3e14-45ef-c134-aff90e179a12"
      },
      "execution_count": 7,
      "outputs": [
        {
          "output_type": "stream",
          "name": "stdout",
          "text": [
            "[nltk_data] Downloading package punkt to /root/nltk_data...\n",
            "[nltk_data]   Package punkt is already up-to-date!\n"
          ]
        },
        {
          "output_type": "execute_result",
          "data": {
            "text/plain": [
              "True"
            ]
          },
          "metadata": {},
          "execution_count": 7
        }
      ]
    },
    {
      "cell_type": "code",
      "source": [
        "nltk.download('wordnet')"
      ],
      "metadata": {
        "colab": {
          "base_uri": "https://localhost:8080/"
        },
        "id": "XUr1w8qp_wJE",
        "outputId": "bf4551f3-e684-41d6-ca9f-67504a462180"
      },
      "execution_count": 41,
      "outputs": [
        {
          "output_type": "stream",
          "name": "stdout",
          "text": [
            "[nltk_data] Downloading package wordnet to /root/nltk_data...\n",
            "[nltk_data]   Unzipping corpora/wordnet.zip.\n"
          ]
        },
        {
          "output_type": "execute_result",
          "data": {
            "text/plain": [
              "True"
            ]
          },
          "metadata": {},
          "execution_count": 41
        }
      ]
    },
    {
      "cell_type": "code",
      "source": [
        "import spacy \n",
        "import pandas as pd \n",
        "import numpy as np \n",
        "import matplotlib.pyplot as plt \n",
        "import seaborn as sns \n",
        "import string \n",
        "import re \n",
        "\n",
        "\n",
        "from nltk.tokenize import word_tokenize \n",
        "from nltk.tokenize import sent_tokenize \n",
        "from nltk.stem import WordNetLemmatizer\n",
        "\n",
        "from tqdm import tqdm_notebook\n",
        "\n",
        "from sklearn.feature_extraction.text import TfidfVectorizer\n",
        "from sklearn.decomposition import PCA \n",
        "from sklearn.linear_model import LogisticRegression\n",
        "from sklearn.model_selection import train_test_split\n",
        "\n",
        "from sklearn.metrics import confusion_matrix \n",
        "from sklearn.metrics import classification_report\n",
        "from sklearn.manifold import TSNE\n",
        "\n",
        "from imblearn.over_sampling import SMOTE\n"
      ],
      "metadata": {
        "id": "VpXso3EUeO9a"
      },
      "execution_count": 85,
      "outputs": []
    },
    {
      "cell_type": "code",
      "source": [
        "def count_sentence_word(text_list):\n",
        "  \"\"\"Counts the number of words and sentences in a list of text\"\"\"\n",
        "  sent_count = 0\n",
        "  word_count = 0 \n",
        "  vocab = {}\n",
        "  for text in tqdm_notebook(text_list):\n",
        "    sentences = sent_tokenize(str(text).lower())\n",
        "    sent_count = sent_count + len(sentences)\n",
        "    for sentence in sentences:\n",
        "      words = word_tokenize(sentence)\n",
        "      for word in words:\n",
        "        if (word in vocab.keys()):\n",
        "          vocab[word] = vocab[word] + 1\n",
        "        else:\n",
        "          vocab[word] = 1\n",
        "  \n",
        "  word_count = len(vocab.keys())\n",
        "  return sent_count, word_count\n"
      ],
      "metadata": {
        "id": "3IvCZIESemXm"
      },
      "execution_count": 9,
      "outputs": []
    },
    {
      "cell_type": "code",
      "source": [
        "t = ['Hello my name is akhil', 'I like reading books', 'My name is lil', 'I enjoy playing the guitar']\n"
      ],
      "metadata": {
        "id": "sxoQBCubwk6-"
      },
      "execution_count": 10,
      "outputs": []
    },
    {
      "cell_type": "code",
      "source": [
        "count_sentence_word(t)"
      ],
      "metadata": {
        "colab": {
          "base_uri": "https://localhost:8080/",
          "height": 138,
          "referenced_widgets": [
            "36528433e04140079ad01e3af1bf4ee8",
            "27740b36b25c44ef93776c1d4c2fc6fb",
            "873530ced152468db80da17e1e238274",
            "61fa70556e194524b53bb699d2e59c13",
            "2455021a25bf4afbaf38e6d8e8f16b02",
            "35f8ddca458e4fe9b45abb63f0123c52",
            "90f2fce59e374130be0351d4a5185ff1",
            "715cf0fecea64903b891968e2d8151c8",
            "d16e54ba9c79468da5b62eda3777456f",
            "07a49b30aa4f4776814da1b15fb3e3a7",
            "4e133dfe77054ede85e0039601da52d3"
          ]
        },
        "id": "pB5nfp_iwsEr",
        "outputId": "7ea3ee9f-890b-4f06-f117-67a2d9416ca9"
      },
      "execution_count": 11,
      "outputs": [
        {
          "output_type": "stream",
          "name": "stderr",
          "text": [
            "/usr/local/lib/python3.7/dist-packages/ipykernel_launcher.py:6: TqdmDeprecationWarning: This function will be removed in tqdm==5.0.0\n",
            "Please use `tqdm.notebook.tqdm` instead of `tqdm.tqdm_notebook`\n",
            "  \n"
          ]
        },
        {
          "output_type": "display_data",
          "data": {
            "application/vnd.jupyter.widget-view+json": {
              "model_id": "36528433e04140079ad01e3af1bf4ee8",
              "version_minor": 0,
              "version_major": 2
            },
            "text/plain": [
              "  0%|          | 0/4 [00:00<?, ?it/s]"
            ]
          },
          "metadata": {}
        },
        {
          "output_type": "execute_result",
          "data": {
            "text/plain": [
              "(4, 14)"
            ]
          },
          "metadata": {},
          "execution_count": 11
        }
      ]
    },
    {
      "cell_type": "markdown",
      "source": [
        "#### **EDA**"
      ],
      "metadata": {
        "id": "6h58gIFCwuPk"
      }
    },
    {
      "cell_type": "code",
      "source": [
        "df = pd.read_csv('/content/mtsamples.csv')\n",
        "df.head()"
      ],
      "metadata": {
        "colab": {
          "base_uri": "https://localhost:8080/",
          "height": 389
        },
        "id": "UTxXpPmtx4YO",
        "outputId": "d9632549-a50f-4fb4-e534-353b2c0e740f"
      },
      "execution_count": 12,
      "outputs": [
        {
          "output_type": "execute_result",
          "data": {
            "text/html": [
              "\n",
              "  <div id=\"df-47b7dbc3-7e52-4bc6-a276-e8dca33f721a\">\n",
              "    <div class=\"colab-df-container\">\n",
              "      <div>\n",
              "<style scoped>\n",
              "    .dataframe tbody tr th:only-of-type {\n",
              "        vertical-align: middle;\n",
              "    }\n",
              "\n",
              "    .dataframe tbody tr th {\n",
              "        vertical-align: top;\n",
              "    }\n",
              "\n",
              "    .dataframe thead th {\n",
              "        text-align: right;\n",
              "    }\n",
              "</style>\n",
              "<table border=\"1\" class=\"dataframe\">\n",
              "  <thead>\n",
              "    <tr style=\"text-align: right;\">\n",
              "      <th></th>\n",
              "      <th>Unnamed: 0</th>\n",
              "      <th>description</th>\n",
              "      <th>medical_specialty</th>\n",
              "      <th>sample_name</th>\n",
              "      <th>transcription</th>\n",
              "      <th>keywords</th>\n",
              "    </tr>\n",
              "  </thead>\n",
              "  <tbody>\n",
              "    <tr>\n",
              "      <th>0</th>\n",
              "      <td>0</td>\n",
              "      <td>A 23-year-old white female presents with comp...</td>\n",
              "      <td>Allergy / Immunology</td>\n",
              "      <td>Allergic Rhinitis</td>\n",
              "      <td>SUBJECTIVE:,  This 23-year-old white female pr...</td>\n",
              "      <td>allergy / immunology, allergic rhinitis, aller...</td>\n",
              "    </tr>\n",
              "    <tr>\n",
              "      <th>1</th>\n",
              "      <td>1</td>\n",
              "      <td>Consult for laparoscopic gastric bypass.</td>\n",
              "      <td>Bariatrics</td>\n",
              "      <td>Laparoscopic Gastric Bypass Consult - 2</td>\n",
              "      <td>PAST MEDICAL HISTORY:, He has difficulty climb...</td>\n",
              "      <td>bariatrics, laparoscopic gastric bypass, weigh...</td>\n",
              "    </tr>\n",
              "    <tr>\n",
              "      <th>2</th>\n",
              "      <td>2</td>\n",
              "      <td>Consult for laparoscopic gastric bypass.</td>\n",
              "      <td>Bariatrics</td>\n",
              "      <td>Laparoscopic Gastric Bypass Consult - 1</td>\n",
              "      <td>HISTORY OF PRESENT ILLNESS: , I have seen ABC ...</td>\n",
              "      <td>bariatrics, laparoscopic gastric bypass, heart...</td>\n",
              "    </tr>\n",
              "    <tr>\n",
              "      <th>3</th>\n",
              "      <td>3</td>\n",
              "      <td>2-D M-Mode. Doppler.</td>\n",
              "      <td>Cardiovascular / Pulmonary</td>\n",
              "      <td>2-D Echocardiogram - 1</td>\n",
              "      <td>2-D M-MODE: , ,1.  Left atrial enlargement wit...</td>\n",
              "      <td>cardiovascular / pulmonary, 2-d m-mode, dopple...</td>\n",
              "    </tr>\n",
              "    <tr>\n",
              "      <th>4</th>\n",
              "      <td>4</td>\n",
              "      <td>2-D Echocardiogram</td>\n",
              "      <td>Cardiovascular / Pulmonary</td>\n",
              "      <td>2-D Echocardiogram - 2</td>\n",
              "      <td>1.  The left ventricular cavity size and wall ...</td>\n",
              "      <td>cardiovascular / pulmonary, 2-d, doppler, echo...</td>\n",
              "    </tr>\n",
              "  </tbody>\n",
              "</table>\n",
              "</div>\n",
              "      <button class=\"colab-df-convert\" onclick=\"convertToInteractive('df-47b7dbc3-7e52-4bc6-a276-e8dca33f721a')\"\n",
              "              title=\"Convert this dataframe to an interactive table.\"\n",
              "              style=\"display:none;\">\n",
              "        \n",
              "  <svg xmlns=\"http://www.w3.org/2000/svg\" height=\"24px\"viewBox=\"0 0 24 24\"\n",
              "       width=\"24px\">\n",
              "    <path d=\"M0 0h24v24H0V0z\" fill=\"none\"/>\n",
              "    <path d=\"M18.56 5.44l.94 2.06.94-2.06 2.06-.94-2.06-.94-.94-2.06-.94 2.06-2.06.94zm-11 1L8.5 8.5l.94-2.06 2.06-.94-2.06-.94L8.5 2.5l-.94 2.06-2.06.94zm10 10l.94 2.06.94-2.06 2.06-.94-2.06-.94-.94-2.06-.94 2.06-2.06.94z\"/><path d=\"M17.41 7.96l-1.37-1.37c-.4-.4-.92-.59-1.43-.59-.52 0-1.04.2-1.43.59L10.3 9.45l-7.72 7.72c-.78.78-.78 2.05 0 2.83L4 21.41c.39.39.9.59 1.41.59.51 0 1.02-.2 1.41-.59l7.78-7.78 2.81-2.81c.8-.78.8-2.07 0-2.86zM5.41 20L4 18.59l7.72-7.72 1.47 1.35L5.41 20z\"/>\n",
              "  </svg>\n",
              "      </button>\n",
              "      \n",
              "  <style>\n",
              "    .colab-df-container {\n",
              "      display:flex;\n",
              "      flex-wrap:wrap;\n",
              "      gap: 12px;\n",
              "    }\n",
              "\n",
              "    .colab-df-convert {\n",
              "      background-color: #E8F0FE;\n",
              "      border: none;\n",
              "      border-radius: 50%;\n",
              "      cursor: pointer;\n",
              "      display: none;\n",
              "      fill: #1967D2;\n",
              "      height: 32px;\n",
              "      padding: 0 0 0 0;\n",
              "      width: 32px;\n",
              "    }\n",
              "\n",
              "    .colab-df-convert:hover {\n",
              "      background-color: #E2EBFA;\n",
              "      box-shadow: 0px 1px 2px rgba(60, 64, 67, 0.3), 0px 1px 3px 1px rgba(60, 64, 67, 0.15);\n",
              "      fill: #174EA6;\n",
              "    }\n",
              "\n",
              "    [theme=dark] .colab-df-convert {\n",
              "      background-color: #3B4455;\n",
              "      fill: #D2E3FC;\n",
              "    }\n",
              "\n",
              "    [theme=dark] .colab-df-convert:hover {\n",
              "      background-color: #434B5C;\n",
              "      box-shadow: 0px 1px 3px 1px rgba(0, 0, 0, 0.15);\n",
              "      filter: drop-shadow(0px 1px 2px rgba(0, 0, 0, 0.3));\n",
              "      fill: #FFFFFF;\n",
              "    }\n",
              "  </style>\n",
              "\n",
              "      <script>\n",
              "        const buttonEl =\n",
              "          document.querySelector('#df-47b7dbc3-7e52-4bc6-a276-e8dca33f721a button.colab-df-convert');\n",
              "        buttonEl.style.display =\n",
              "          google.colab.kernel.accessAllowed ? 'block' : 'none';\n",
              "\n",
              "        async function convertToInteractive(key) {\n",
              "          const element = document.querySelector('#df-47b7dbc3-7e52-4bc6-a276-e8dca33f721a');\n",
              "          const dataTable =\n",
              "            await google.colab.kernel.invokeFunction('convertToInteractive',\n",
              "                                                     [key], {});\n",
              "          if (!dataTable) return;\n",
              "\n",
              "          const docLinkHtml = 'Like what you see? Visit the ' +\n",
              "            '<a target=\"_blank\" href=https://colab.research.google.com/notebooks/data_table.ipynb>data table notebook</a>'\n",
              "            + ' to learn more about interactive tables.';\n",
              "          element.innerHTML = '';\n",
              "          dataTable['output_type'] = 'display_data';\n",
              "          await google.colab.output.renderOutput(dataTable, element);\n",
              "          const docLink = document.createElement('div');\n",
              "          docLink.innerHTML = docLinkHtml;\n",
              "          element.appendChild(docLink);\n",
              "        }\n",
              "      </script>\n",
              "    </div>\n",
              "  </div>\n",
              "  "
            ],
            "text/plain": [
              "   Unnamed: 0  ...                                           keywords\n",
              "0           0  ...  allergy / immunology, allergic rhinitis, aller...\n",
              "1           1  ...  bariatrics, laparoscopic gastric bypass, weigh...\n",
              "2           2  ...  bariatrics, laparoscopic gastric bypass, heart...\n",
              "3           3  ...  cardiovascular / pulmonary, 2-d m-mode, dopple...\n",
              "4           4  ...  cardiovascular / pulmonary, 2-d, doppler, echo...\n",
              "\n",
              "[5 rows x 6 columns]"
            ]
          },
          "metadata": {},
          "execution_count": 12
        }
      ]
    },
    {
      "cell_type": "code",
      "source": [
        "df['medical_specialty'].value_counts()"
      ],
      "metadata": {
        "id": "1ltqdTE9y5l5",
        "colab": {
          "base_uri": "https://localhost:8080/"
        },
        "outputId": "3f3ff393-4dd3-4596-ecd9-ff499b1bdc20"
      },
      "execution_count": 13,
      "outputs": [
        {
          "output_type": "execute_result",
          "data": {
            "text/plain": [
              " Surgery                          1103\n",
              " Consult - History and Phy.        516\n",
              " Cardiovascular / Pulmonary        372\n",
              " Orthopedic                        355\n",
              " Radiology                         273\n",
              " General Medicine                  259\n",
              " Gastroenterology                  230\n",
              " Neurology                         223\n",
              " SOAP / Chart / Progress Notes     166\n",
              " Obstetrics / Gynecology           160\n",
              " Urology                           158\n",
              " Discharge Summary                 108\n",
              " ENT - Otolaryngology               98\n",
              " Neurosurgery                       94\n",
              " Hematology - Oncology              90\n",
              " Ophthalmology                      83\n",
              " Nephrology                         81\n",
              " Emergency Room Reports             75\n",
              " Pediatrics - Neonatal              70\n",
              " Pain Management                    62\n",
              " Psychiatry / Psychology            53\n",
              " Office Notes                       51\n",
              " Podiatry                           47\n",
              " Dermatology                        29\n",
              " Cosmetic / Plastic Surgery         27\n",
              " Dentistry                          27\n",
              " Letters                            23\n",
              " Physical Medicine - Rehab          21\n",
              " Sleep Medicine                     20\n",
              " Endocrinology                      19\n",
              " Bariatrics                         18\n",
              " IME-QME-Work Comp etc.             16\n",
              " Chiropractic                       14\n",
              " Rheumatology                       10\n",
              " Diets and Nutritions               10\n",
              " Speech - Language                   9\n",
              " Lab Medicine - Pathology            8\n",
              " Autopsy                             8\n",
              " Allergy / Immunology                7\n",
              " Hospice - Palliative Care           6\n",
              "Name: medical_specialty, dtype: int64"
            ]
          },
          "metadata": {},
          "execution_count": 13
        }
      ]
    },
    {
      "cell_type": "code",
      "source": [
        "len(list(df['medical_specialty'].value_counts()))"
      ],
      "metadata": {
        "id": "pY_S6Ao50IRL",
        "colab": {
          "base_uri": "https://localhost:8080/"
        },
        "outputId": "c28ff314-d882-406a-c149-4d7ca5a14a33"
      },
      "execution_count": 14,
      "outputs": [
        {
          "output_type": "execute_result",
          "data": {
            "text/plain": [
              "40"
            ]
          },
          "metadata": {},
          "execution_count": 14
        }
      ]
    },
    {
      "cell_type": "code",
      "source": [
        "## Check for missing values \n",
        "\n",
        "df.isnull().any()"
      ],
      "metadata": {
        "id": "GLF-lZ310QaG",
        "colab": {
          "base_uri": "https://localhost:8080/"
        },
        "outputId": "5cf1a073-4e74-482e-c952-b4d8efd355f4"
      },
      "execution_count": 15,
      "outputs": [
        {
          "output_type": "execute_result",
          "data": {
            "text/plain": [
              "Unnamed: 0           False\n",
              "description          False\n",
              "medical_specialty    False\n",
              "sample_name          False\n",
              "transcription         True\n",
              "keywords              True\n",
              "dtype: bool"
            ]
          },
          "metadata": {},
          "execution_count": 15
        }
      ]
    },
    {
      "cell_type": "code",
      "source": [
        "df.isnull().sum()"
      ],
      "metadata": {
        "id": "bE-hSSfn0bUy",
        "colab": {
          "base_uri": "https://localhost:8080/"
        },
        "outputId": "d504ed8a-83ca-45a8-ba5b-010529bd6c5b"
      },
      "execution_count": 16,
      "outputs": [
        {
          "output_type": "execute_result",
          "data": {
            "text/plain": [
              "Unnamed: 0              0\n",
              "description             0\n",
              "medical_specialty       0\n",
              "sample_name             0\n",
              "transcription          33\n",
              "keywords             1068\n",
              "dtype: int64"
            ]
          },
          "metadata": {},
          "execution_count": 16
        }
      ]
    },
    {
      "cell_type": "code",
      "source": [
        "len(df)"
      ],
      "metadata": {
        "id": "T5sK7J270gGB",
        "colab": {
          "base_uri": "https://localhost:8080/"
        },
        "outputId": "a8e64dfa-2d3e-4ce7-fce5-db559ee7d095"
      },
      "execution_count": 17,
      "outputs": [
        {
          "output_type": "execute_result",
          "data": {
            "text/plain": [
              "4999"
            ]
          },
          "metadata": {},
          "execution_count": 17
        }
      ]
    },
    {
      "cell_type": "markdown",
      "source": [
        "- We have 40 unique medical specialities\n",
        "- There are about 5000 records in total \n",
        "- There are 33 records with no transcriptions. We can drop these rows. "
      ],
      "metadata": {
        "id": "Dc05-GCP0mTK"
      }
    },
    {
      "cell_type": "code",
      "source": [
        "df.dropna(subset=['transcription'], inplace=True)"
      ],
      "metadata": {
        "id": "-_XOfGpZG8wa"
      },
      "execution_count": 18,
      "outputs": []
    },
    {
      "cell_type": "code",
      "source": [
        "len(df)"
      ],
      "metadata": {
        "id": "WflZFwCwHwlT",
        "colab": {
          "base_uri": "https://localhost:8080/"
        },
        "outputId": "d86f1406-67f4-4d21-aac4-31c6ea66d9c9"
      },
      "execution_count": 19,
      "outputs": [
        {
          "output_type": "execute_result",
          "data": {
            "text/plain": [
              "4966"
            ]
          },
          "metadata": {},
          "execution_count": 19
        }
      ]
    },
    {
      "cell_type": "code",
      "source": [
        "sent_count, word_count = count_sentence_word(df['transcription'].to_list())\n"
      ],
      "metadata": {
        "id": "nNjJgAIfHyKh",
        "colab": {
          "base_uri": "https://localhost:8080/",
          "height": 121,
          "referenced_widgets": [
            "b28fe59835bc4b4ebec4fc7e19eb22e9",
            "c16358db5b3b474cbdfe9c77047e9224",
            "9830aae6ede1400891159ed5944b5772",
            "e351dca68edf42fba5afbfe9fe3fa313",
            "9ed0bc6ce1f842d79619b76b8ee34e64",
            "5f601231e9a843dcbca978405f0213f7",
            "2488bc6ec24549f9ac0b16526ff93f95",
            "19034c1405eb43668bdd0706122f3493",
            "a7b2d25f3e9a426e962f8c54d2431c06",
            "14ab8224ec764b89a11c40b6f79216a2",
            "5281c3ea34c34cc8ab15096178ca8807"
          ]
        },
        "outputId": "5c0d8f06-9127-476a-ffe7-d512b3dd991b"
      },
      "execution_count": 20,
      "outputs": [
        {
          "output_type": "stream",
          "name": "stderr",
          "text": [
            "/usr/local/lib/python3.7/dist-packages/ipykernel_launcher.py:6: TqdmDeprecationWarning: This function will be removed in tqdm==5.0.0\n",
            "Please use `tqdm.notebook.tqdm` instead of `tqdm.tqdm_notebook`\n",
            "  \n"
          ]
        },
        {
          "output_type": "display_data",
          "data": {
            "application/vnd.jupyter.widget-view+json": {
              "model_id": "b28fe59835bc4b4ebec4fc7e19eb22e9",
              "version_minor": 0,
              "version_major": 2
            },
            "text/plain": [
              "  0%|          | 0/4966 [00:00<?, ?it/s]"
            ]
          },
          "metadata": {}
        }
      ]
    },
    {
      "cell_type": "code",
      "source": [
        "sent_count"
      ],
      "metadata": {
        "id": "1VBGPuzxJMN3",
        "colab": {
          "base_uri": "https://localhost:8080/"
        },
        "outputId": "ab1c86cf-d72e-4719-e0c5-3424965fe9a4"
      },
      "execution_count": 21,
      "outputs": [
        {
          "output_type": "execute_result",
          "data": {
            "text/plain": [
              "140214"
            ]
          },
          "metadata": {},
          "execution_count": 21
        }
      ]
    },
    {
      "cell_type": "code",
      "source": [
        "df['medical_specialty'].value_counts()"
      ],
      "metadata": {
        "id": "iXWjqr-7JjE6",
        "colab": {
          "base_uri": "https://localhost:8080/"
        },
        "outputId": "f73ac1dc-0ac3-4e17-d537-681bb902efbc"
      },
      "execution_count": 22,
      "outputs": [
        {
          "output_type": "execute_result",
          "data": {
            "text/plain": [
              " Surgery                          1088\n",
              " Consult - History and Phy.        516\n",
              " Cardiovascular / Pulmonary        371\n",
              " Orthopedic                        355\n",
              " Radiology                         273\n",
              " General Medicine                  259\n",
              " Gastroenterology                  224\n",
              " Neurology                         223\n",
              " SOAP / Chart / Progress Notes     166\n",
              " Urology                           156\n",
              " Obstetrics / Gynecology           155\n",
              " Discharge Summary                 108\n",
              " ENT - Otolaryngology               96\n",
              " Neurosurgery                       94\n",
              " Hematology - Oncology              90\n",
              " Ophthalmology                      83\n",
              " Nephrology                         81\n",
              " Emergency Room Reports             75\n",
              " Pediatrics - Neonatal              70\n",
              " Pain Management                    61\n",
              " Psychiatry / Psychology            53\n",
              " Office Notes                       50\n",
              " Podiatry                           47\n",
              " Dermatology                        29\n",
              " Cosmetic / Plastic Surgery         27\n",
              " Dentistry                          27\n",
              " Letters                            23\n",
              " Physical Medicine - Rehab          21\n",
              " Sleep Medicine                     20\n",
              " Endocrinology                      19\n",
              " Bariatrics                         18\n",
              " IME-QME-Work Comp etc.             16\n",
              " Chiropractic                       14\n",
              " Rheumatology                       10\n",
              " Diets and Nutritions               10\n",
              " Speech - Language                   9\n",
              " Lab Medicine - Pathology            8\n",
              " Autopsy                             8\n",
              " Allergy / Immunology                7\n",
              " Hospice - Palliative Care           6\n",
              "Name: medical_specialty, dtype: int64"
            ]
          },
          "metadata": {},
          "execution_count": 22
        }
      ]
    },
    {
      "cell_type": "markdown",
      "source": [
        "We see that most there are several specialities that have comparatively very few records. We can filter the dataframe to contain only those specialities that have at least 50 or more records. "
      ],
      "metadata": {
        "id": "XsqTLuzlJv6h"
      }
    },
    {
      "cell_type": "code",
      "source": [
        "## Filtering out the dataset to contain only those specialties with more than 50 records \n",
        "\n",
        "df = df.groupby('medical_specialty').filter(lambda x: len(x) > 50)\n",
        "df.head()"
      ],
      "metadata": {
        "id": "-pga9SiMYmgv",
        "colab": {
          "base_uri": "https://localhost:8080/",
          "height": 424
        },
        "outputId": "bdc656f1-4298-4ea0-bc1f-c6b2d12fcc66"
      },
      "execution_count": 23,
      "outputs": [
        {
          "output_type": "execute_result",
          "data": {
            "text/html": [
              "\n",
              "  <div id=\"df-fbaf1133-2a6b-4386-b098-9f29096f959e\">\n",
              "    <div class=\"colab-df-container\">\n",
              "      <div>\n",
              "<style scoped>\n",
              "    .dataframe tbody tr th:only-of-type {\n",
              "        vertical-align: middle;\n",
              "    }\n",
              "\n",
              "    .dataframe tbody tr th {\n",
              "        vertical-align: top;\n",
              "    }\n",
              "\n",
              "    .dataframe thead th {\n",
              "        text-align: right;\n",
              "    }\n",
              "</style>\n",
              "<table border=\"1\" class=\"dataframe\">\n",
              "  <thead>\n",
              "    <tr style=\"text-align: right;\">\n",
              "      <th></th>\n",
              "      <th>Unnamed: 0</th>\n",
              "      <th>description</th>\n",
              "      <th>medical_specialty</th>\n",
              "      <th>sample_name</th>\n",
              "      <th>transcription</th>\n",
              "      <th>keywords</th>\n",
              "    </tr>\n",
              "  </thead>\n",
              "  <tbody>\n",
              "    <tr>\n",
              "      <th>3</th>\n",
              "      <td>3</td>\n",
              "      <td>2-D M-Mode. Doppler.</td>\n",
              "      <td>Cardiovascular / Pulmonary</td>\n",
              "      <td>2-D Echocardiogram - 1</td>\n",
              "      <td>2-D M-MODE: , ,1.  Left atrial enlargement wit...</td>\n",
              "      <td>cardiovascular / pulmonary, 2-d m-mode, dopple...</td>\n",
              "    </tr>\n",
              "    <tr>\n",
              "      <th>4</th>\n",
              "      <td>4</td>\n",
              "      <td>2-D Echocardiogram</td>\n",
              "      <td>Cardiovascular / Pulmonary</td>\n",
              "      <td>2-D Echocardiogram - 2</td>\n",
              "      <td>1.  The left ventricular cavity size and wall ...</td>\n",
              "      <td>cardiovascular / pulmonary, 2-d, doppler, echo...</td>\n",
              "    </tr>\n",
              "    <tr>\n",
              "      <th>7</th>\n",
              "      <td>7</td>\n",
              "      <td>2-D Echocardiogram</td>\n",
              "      <td>Cardiovascular / Pulmonary</td>\n",
              "      <td>2-D Echocardiogram - 3</td>\n",
              "      <td>2-D ECHOCARDIOGRAM,Multiple views of the heart...</td>\n",
              "      <td>cardiovascular / pulmonary, 2-d echocardiogram...</td>\n",
              "    </tr>\n",
              "    <tr>\n",
              "      <th>9</th>\n",
              "      <td>9</td>\n",
              "      <td>Echocardiogram and Doppler</td>\n",
              "      <td>Cardiovascular / Pulmonary</td>\n",
              "      <td>2-D Echocardiogram - 4</td>\n",
              "      <td>DESCRIPTION:,1.  Normal cardiac chambers size....</td>\n",
              "      <td>cardiovascular / pulmonary, ejection fraction,...</td>\n",
              "    </tr>\n",
              "    <tr>\n",
              "      <th>11</th>\n",
              "      <td>11</td>\n",
              "      <td>Normal left ventricle, moderate biatrial enla...</td>\n",
              "      <td>Cardiovascular / Pulmonary</td>\n",
              "      <td>2-D Doppler</td>\n",
              "      <td>2-D STUDY,1. Mild aortic stenosis, widely calc...</td>\n",
              "      <td>cardiovascular / pulmonary, 2-d study, doppler...</td>\n",
              "    </tr>\n",
              "  </tbody>\n",
              "</table>\n",
              "</div>\n",
              "      <button class=\"colab-df-convert\" onclick=\"convertToInteractive('df-fbaf1133-2a6b-4386-b098-9f29096f959e')\"\n",
              "              title=\"Convert this dataframe to an interactive table.\"\n",
              "              style=\"display:none;\">\n",
              "        \n",
              "  <svg xmlns=\"http://www.w3.org/2000/svg\" height=\"24px\"viewBox=\"0 0 24 24\"\n",
              "       width=\"24px\">\n",
              "    <path d=\"M0 0h24v24H0V0z\" fill=\"none\"/>\n",
              "    <path d=\"M18.56 5.44l.94 2.06.94-2.06 2.06-.94-2.06-.94-.94-2.06-.94 2.06-2.06.94zm-11 1L8.5 8.5l.94-2.06 2.06-.94-2.06-.94L8.5 2.5l-.94 2.06-2.06.94zm10 10l.94 2.06.94-2.06 2.06-.94-2.06-.94-.94-2.06-.94 2.06-2.06.94z\"/><path d=\"M17.41 7.96l-1.37-1.37c-.4-.4-.92-.59-1.43-.59-.52 0-1.04.2-1.43.59L10.3 9.45l-7.72 7.72c-.78.78-.78 2.05 0 2.83L4 21.41c.39.39.9.59 1.41.59.51 0 1.02-.2 1.41-.59l7.78-7.78 2.81-2.81c.8-.78.8-2.07 0-2.86zM5.41 20L4 18.59l7.72-7.72 1.47 1.35L5.41 20z\"/>\n",
              "  </svg>\n",
              "      </button>\n",
              "      \n",
              "  <style>\n",
              "    .colab-df-container {\n",
              "      display:flex;\n",
              "      flex-wrap:wrap;\n",
              "      gap: 12px;\n",
              "    }\n",
              "\n",
              "    .colab-df-convert {\n",
              "      background-color: #E8F0FE;\n",
              "      border: none;\n",
              "      border-radius: 50%;\n",
              "      cursor: pointer;\n",
              "      display: none;\n",
              "      fill: #1967D2;\n",
              "      height: 32px;\n",
              "      padding: 0 0 0 0;\n",
              "      width: 32px;\n",
              "    }\n",
              "\n",
              "    .colab-df-convert:hover {\n",
              "      background-color: #E2EBFA;\n",
              "      box-shadow: 0px 1px 2px rgba(60, 64, 67, 0.3), 0px 1px 3px 1px rgba(60, 64, 67, 0.15);\n",
              "      fill: #174EA6;\n",
              "    }\n",
              "\n",
              "    [theme=dark] .colab-df-convert {\n",
              "      background-color: #3B4455;\n",
              "      fill: #D2E3FC;\n",
              "    }\n",
              "\n",
              "    [theme=dark] .colab-df-convert:hover {\n",
              "      background-color: #434B5C;\n",
              "      box-shadow: 0px 1px 3px 1px rgba(0, 0, 0, 0.15);\n",
              "      filter: drop-shadow(0px 1px 2px rgba(0, 0, 0, 0.3));\n",
              "      fill: #FFFFFF;\n",
              "    }\n",
              "  </style>\n",
              "\n",
              "      <script>\n",
              "        const buttonEl =\n",
              "          document.querySelector('#df-fbaf1133-2a6b-4386-b098-9f29096f959e button.colab-df-convert');\n",
              "        buttonEl.style.display =\n",
              "          google.colab.kernel.accessAllowed ? 'block' : 'none';\n",
              "\n",
              "        async function convertToInteractive(key) {\n",
              "          const element = document.querySelector('#df-fbaf1133-2a6b-4386-b098-9f29096f959e');\n",
              "          const dataTable =\n",
              "            await google.colab.kernel.invokeFunction('convertToInteractive',\n",
              "                                                     [key], {});\n",
              "          if (!dataTable) return;\n",
              "\n",
              "          const docLinkHtml = 'Like what you see? Visit the ' +\n",
              "            '<a target=\"_blank\" href=https://colab.research.google.com/notebooks/data_table.ipynb>data table notebook</a>'\n",
              "            + ' to learn more about interactive tables.';\n",
              "          element.innerHTML = '';\n",
              "          dataTable['output_type'] = 'display_data';\n",
              "          await google.colab.output.renderOutput(dataTable, element);\n",
              "          const docLink = document.createElement('div');\n",
              "          docLink.innerHTML = docLinkHtml;\n",
              "          element.appendChild(docLink);\n",
              "        }\n",
              "      </script>\n",
              "    </div>\n",
              "  </div>\n",
              "  "
            ],
            "text/plain": [
              "    Unnamed: 0  ...                                           keywords\n",
              "3            3  ...  cardiovascular / pulmonary, 2-d m-mode, dopple...\n",
              "4            4  ...  cardiovascular / pulmonary, 2-d, doppler, echo...\n",
              "7            7  ...  cardiovascular / pulmonary, 2-d echocardiogram...\n",
              "9            9  ...  cardiovascular / pulmonary, ejection fraction,...\n",
              "11          11  ...  cardiovascular / pulmonary, 2-d study, doppler...\n",
              "\n",
              "[5 rows x 6 columns]"
            ]
          },
          "metadata": {},
          "execution_count": 23
        }
      ]
    },
    {
      "cell_type": "code",
      "source": [
        "df['medical_specialty'].value_counts()"
      ],
      "metadata": {
        "id": "GyFB_iqzYUuy",
        "colab": {
          "base_uri": "https://localhost:8080/"
        },
        "outputId": "95751153-dbd3-4c69-fa9e-11fc15954acf"
      },
      "execution_count": 24,
      "outputs": [
        {
          "output_type": "execute_result",
          "data": {
            "text/plain": [
              " Surgery                          1088\n",
              " Consult - History and Phy.        516\n",
              " Cardiovascular / Pulmonary        371\n",
              " Orthopedic                        355\n",
              " Radiology                         273\n",
              " General Medicine                  259\n",
              " Gastroenterology                  224\n",
              " Neurology                         223\n",
              " SOAP / Chart / Progress Notes     166\n",
              " Urology                           156\n",
              " Obstetrics / Gynecology           155\n",
              " Discharge Summary                 108\n",
              " ENT - Otolaryngology               96\n",
              " Neurosurgery                       94\n",
              " Hematology - Oncology              90\n",
              " Ophthalmology                      83\n",
              " Nephrology                         81\n",
              " Emergency Room Reports             75\n",
              " Pediatrics - Neonatal              70\n",
              " Pain Management                    61\n",
              " Psychiatry / Psychology            53\n",
              "Name: medical_specialty, dtype: int64"
            ]
          },
          "metadata": {},
          "execution_count": 24
        }
      ]
    },
    {
      "cell_type": "markdown",
      "source": [
        "We now notice that the total number of specialties reduces from 40 to 21."
      ],
      "metadata": {
        "id": "V-3hca8ZY2ME"
      }
    },
    {
      "cell_type": "code",
      "source": [
        "plt.figure(figsize=(10,10))\n",
        "sns.countplot(y='medical_specialty', data=df)\n",
        "plt.show()"
      ],
      "metadata": {
        "id": "6Sgshy8XZAAz",
        "colab": {
          "base_uri": "https://localhost:8080/",
          "height": 606
        },
        "outputId": "d3f71fe1-04ce-49d4-852d-3904fc49e362"
      },
      "execution_count": 25,
      "outputs": [
        {
          "output_type": "display_data",
          "data": {
            "image/png": "[encoded data removed]",
            "text/plain": [
              "<Figure size 720x720 with 1 Axes>"
            ]
          },
          "metadata": {
            "needs_background": "light"
          }
        }
      ]
    },
    {
      "cell_type": "markdown",
      "source": [
        "#### **Data Preprocessing**"
      ],
      "metadata": {
        "id": "Px8_jmHaZhTE"
      }
    },
    {
      "cell_type": "markdown",
      "source": [
        "Filtering out just the transcription and the associated label for the specialty. "
      ],
      "metadata": {
        "id": "UE5Es8aBZ5YF"
      }
    },
    {
      "cell_type": "code",
      "source": [
        "data = df[['transcription', 'medical_specialty']]\n",
        "data.head()"
      ],
      "metadata": {
        "id": "-MnHIB_lZ_Yi",
        "colab": {
          "base_uri": "https://localhost:8080/",
          "height": 206
        },
        "outputId": "3f0f695d-87d8-4af1-fa42-ba18a3c43d76"
      },
      "execution_count": 26,
      "outputs": [
        {
          "output_type": "execute_result",
          "data": {
            "text/html": [
              "\n",
              "  <div id=\"df-69388d68-4b50-4669-9fad-b9770770d266\">\n",
              "    <div class=\"colab-df-container\">\n",
              "      <div>\n",
              "<style scoped>\n",
              "    .dataframe tbody tr th:only-of-type {\n",
              "        vertical-align: middle;\n",
              "    }\n",
              "\n",
              "    .dataframe tbody tr th {\n",
              "        vertical-align: top;\n",
              "    }\n",
              "\n",
              "    .dataframe thead th {\n",
              "        text-align: right;\n",
              "    }\n",
              "</style>\n",
              "<table border=\"1\" class=\"dataframe\">\n",
              "  <thead>\n",
              "    <tr style=\"text-align: right;\">\n",
              "      <th></th>\n",
              "      <th>transcription</th>\n",
              "      <th>medical_specialty</th>\n",
              "    </tr>\n",
              "  </thead>\n",
              "  <tbody>\n",
              "    <tr>\n",
              "      <th>3</th>\n",
              "      <td>2-D M-MODE: , ,1.  Left atrial enlargement wit...</td>\n",
              "      <td>Cardiovascular / Pulmonary</td>\n",
              "    </tr>\n",
              "    <tr>\n",
              "      <th>4</th>\n",
              "      <td>1.  The left ventricular cavity size and wall ...</td>\n",
              "      <td>Cardiovascular / Pulmonary</td>\n",
              "    </tr>\n",
              "    <tr>\n",
              "      <th>7</th>\n",
              "      <td>2-D ECHOCARDIOGRAM,Multiple views of the heart...</td>\n",
              "      <td>Cardiovascular / Pulmonary</td>\n",
              "    </tr>\n",
              "    <tr>\n",
              "      <th>9</th>\n",
              "      <td>DESCRIPTION:,1.  Normal cardiac chambers size....</td>\n",
              "      <td>Cardiovascular / Pulmonary</td>\n",
              "    </tr>\n",
              "    <tr>\n",
              "      <th>11</th>\n",
              "      <td>2-D STUDY,1. Mild aortic stenosis, widely calc...</td>\n",
              "      <td>Cardiovascular / Pulmonary</td>\n",
              "    </tr>\n",
              "  </tbody>\n",
              "</table>\n",
              "</div>\n",
              "      <button class=\"colab-df-convert\" onclick=\"convertToInteractive('df-69388d68-4b50-4669-9fad-b9770770d266')\"\n",
              "              title=\"Convert this dataframe to an interactive table.\"\n",
              "              style=\"display:none;\">\n",
              "        \n",
              "  <svg xmlns=\"http://www.w3.org/2000/svg\" height=\"24px\"viewBox=\"0 0 24 24\"\n",
              "       width=\"24px\">\n",
              "    <path d=\"M0 0h24v24H0V0z\" fill=\"none\"/>\n",
              "    <path d=\"M18.56 5.44l.94 2.06.94-2.06 2.06-.94-2.06-.94-.94-2.06-.94 2.06-2.06.94zm-11 1L8.5 8.5l.94-2.06 2.06-.94-2.06-.94L8.5 2.5l-.94 2.06-2.06.94zm10 10l.94 2.06.94-2.06 2.06-.94-2.06-.94-.94-2.06-.94 2.06-2.06.94z\"/><path d=\"M17.41 7.96l-1.37-1.37c-.4-.4-.92-.59-1.43-.59-.52 0-1.04.2-1.43.59L10.3 9.45l-7.72 7.72c-.78.78-.78 2.05 0 2.83L4 21.41c.39.39.9.59 1.41.59.51 0 1.02-.2 1.41-.59l7.78-7.78 2.81-2.81c.8-.78.8-2.07 0-2.86zM5.41 20L4 18.59l7.72-7.72 1.47 1.35L5.41 20z\"/>\n",
              "  </svg>\n",
              "      </button>\n",
              "      \n",
              "  <style>\n",
              "    .colab-df-container {\n",
              "      display:flex;\n",
              "      flex-wrap:wrap;\n",
              "      gap: 12px;\n",
              "    }\n",
              "\n",
              "    .colab-df-convert {\n",
              "      background-color: #E8F0FE;\n",
              "      border: none;\n",
              "      border-radius: 50%;\n",
              "      cursor: pointer;\n",
              "      display: none;\n",
              "      fill: #1967D2;\n",
              "      height: 32px;\n",
              "      padding: 0 0 0 0;\n",
              "      width: 32px;\n",
              "    }\n",
              "\n",
              "    .colab-df-convert:hover {\n",
              "      background-color: #E2EBFA;\n",
              "      box-shadow: 0px 1px 2px rgba(60, 64, 67, 0.3), 0px 1px 3px 1px rgba(60, 64, 67, 0.15);\n",
              "      fill: #174EA6;\n",
              "    }\n",
              "\n",
              "    [theme=dark] .colab-df-convert {\n",
              "      background-color: #3B4455;\n",
              "      fill: #D2E3FC;\n",
              "    }\n",
              "\n",
              "    [theme=dark] .colab-df-convert:hover {\n",
              "      background-color: #434B5C;\n",
              "      box-shadow: 0px 1px 3px 1px rgba(0, 0, 0, 0.15);\n",
              "      filter: drop-shadow(0px 1px 2px rgba(0, 0, 0, 0.3));\n",
              "      fill: #FFFFFF;\n",
              "    }\n",
              "  </style>\n",
              "\n",
              "      <script>\n",
              "        const buttonEl =\n",
              "          document.querySelector('#df-69388d68-4b50-4669-9fad-b9770770d266 button.colab-df-convert');\n",
              "        buttonEl.style.display =\n",
              "          google.colab.kernel.accessAllowed ? 'block' : 'none';\n",
              "\n",
              "        async function convertToInteractive(key) {\n",
              "          const element = document.querySelector('#df-69388d68-4b50-4669-9fad-b9770770d266');\n",
              "          const dataTable =\n",
              "            await google.colab.kernel.invokeFunction('convertToInteractive',\n",
              "                                                     [key], {});\n",
              "          if (!dataTable) return;\n",
              "\n",
              "          const docLinkHtml = 'Like what you see? Visit the ' +\n",
              "            '<a target=\"_blank\" href=https://colab.research.google.com/notebooks/data_table.ipynb>data table notebook</a>'\n",
              "            + ' to learn more about interactive tables.';\n",
              "          element.innerHTML = '';\n",
              "          dataTable['output_type'] = 'display_data';\n",
              "          await google.colab.output.renderOutput(dataTable, element);\n",
              "          const docLink = document.createElement('div');\n",
              "          docLink.innerHTML = docLinkHtml;\n",
              "          element.appendChild(docLink);\n",
              "        }\n",
              "      </script>\n",
              "    </div>\n",
              "  </div>\n",
              "  "
            ],
            "text/plain": [
              "                                        transcription            medical_specialty\n",
              "3   2-D M-MODE: , ,1.  Left atrial enlargement wit...   Cardiovascular / Pulmonary\n",
              "4   1.  The left ventricular cavity size and wall ...   Cardiovascular / Pulmonary\n",
              "7   2-D ECHOCARDIOGRAM,Multiple views of the heart...   Cardiovascular / Pulmonary\n",
              "9   DESCRIPTION:,1.  Normal cardiac chambers size....   Cardiovascular / Pulmonary\n",
              "11  2-D STUDY,1. Mild aortic stenosis, widely calc...   Cardiovascular / Pulmonary"
            ]
          },
          "metadata": {},
          "execution_count": 26
        }
      ]
    },
    {
      "cell_type": "code",
      "source": [
        "len(data)"
      ],
      "metadata": {
        "id": "6fRss2xSaI_t",
        "colab": {
          "base_uri": "https://localhost:8080/"
        },
        "outputId": "cbd7c307-4d57-4479-a202-3f1149a1f94a"
      },
      "execution_count": 27,
      "outputs": [
        {
          "output_type": "execute_result",
          "data": {
            "text/plain": [
              "4597"
            ]
          },
          "metadata": {},
          "execution_count": 27
        }
      ]
    },
    {
      "cell_type": "markdown",
      "source": [
        "Sample transcription:"
      ],
      "metadata": {
        "id": "KmvUgTVCaKiW"
      }
    },
    {
      "cell_type": "code",
      "source": [
        "data.iloc[5]['transcription']"
      ],
      "metadata": {
        "id": "5rOMStQFaP1Y",
        "colab": {
          "base_uri": "https://localhost:8080/",
          "height": 174
        },
        "outputId": "3a068fa1-74ed-4dce-f12d-d8c7b2b0cab7"
      },
      "execution_count": 28,
      "outputs": [
        {
          "output_type": "execute_result",
          "data": {
            "application/vnd.google.colaboratory.intrinsic+json": {
              "type": "string"
            },
            "text/plain": [
              "'CC:, Confusion and slurred speech.,HX , (primarily obtained from boyfriend): This 31 y/o RHF experienced a \"flu-like illness 6-8 weeks prior to presentation. 3-4 weeks prior to presentation, she was found \"passed out\" in bed, and when awoken appeared confused, and lethargic. She apparently recovered within 24 hours. For two weeks prior to presentation she demonstrated emotional lability, uncharacteristic of her ( outbursts of anger and inappropriate laughter). She left a stove on.,She began slurring her speech 2 days prior to admission. On the day of presentation she developed right facial weakness and began stumbling to the right. She denied any associated headache, nausea, vomiting, fever, chills, neck stiffness or visual change. There was no history of illicit drug/ETOH use or head trauma.,PMH:, Migraine Headache.,FHX: , Unremarkable.,SHX: ,Divorced. Lives with boyfriend. 3 children alive and well. Denied tobacco/illicit drug use. Rarely consumes ETOH.,ROS:, Irregular menses.,EXAM: ,BP118/66.  HR83. RR 20. T36.8C.,MS: Alert and oriented to name only. Perseverative thought processes. Utilized only one or two word answers/phrases. Non-fluent. Rarely followed commands. Impaired writing of name.,CN: Flattened right nasolabial fold only.,Motor: Mild weakness in RUE manifested by pronator drift. Other extremities were full strength.,Sensory: withdrew to noxious stimulation in all 4 extremities.,Coordination: difficult to assess.,Station: Right pronator drift.,Gait: unremarkable.,Reflexes: 2/2BUE, 3/3BLE, Plantars were flexor bilaterally.,General Exam: unremarkable.,INITIAL STUDIES:, CBC, GS, UA, PT, PTT, ESR, CRP, EKG were all unremarkable. Outside HCT showed hypodensities in the right putamen, left caudate, and at several subcortical locations (not specified).,COURSE: ,MRI Brian Scan, 2/11/92 revealed an old lacunar infarct in the right basal ganglia, edema within the head of the left caudate nucleus suggesting an acute ischemic event, and arterial enhancement of the left MCA distribution suggesting slow flow. The latter suggested a vasculopathy such as Moya Moya, or fibromuscular dysplasia. HIV, ANA, Anti-cardiolipin Antibody titer, Cardiac enzymes, TFTs, B12, and cholesterol studies were unremarkable.,She underwent a cerebral angiogram on 2/12/92. This revealed an occlusion of the left MCA just distal to its origin. The distal distribution of the left MCA filled on later films through collaterals from the left ACA. There was also an occlusion of the right MCA just distal to the temporal branch. Distal branches of the right MCA filled through collaterals from the right ACA. No other vascular abnormalities were noted. These findings were felt to be atypical but nevertheless suspicious of a large caliber vasculitis such as Moya Moya disease. She was subsequently given this diagnosis. Neuropsychologic testing revealed widespread cognitive dysfunction with particular impairment of language function. She had long latencies responding and understood only simple questions. Affect was blunted and there was distinct lack of concern regarding her condition. She was subsequently discharged home on no medications.,In 9/92 she was admitted for sudden onset right hemiparesis and mental status change. Exam revealed the hemiparesis and in addition she was found to have significant neck lymphadenopathy. OB/GYN exam including cervical biopsy, and abdominal/pelvic CT scanning revealed stage IV squamous cell cancer of the cervix. She died 9/24/92 of cervical cancer.'"
            ]
          },
          "metadata": {},
          "execution_count": 28
        }
      ]
    },
    {
      "cell_type": "code",
      "source": [
        "data.iloc[120]['transcription']"
      ],
      "metadata": {
        "id": "YFQe5twraU4G",
        "colab": {
          "base_uri": "https://localhost:8080/",
          "height": 157
        },
        "outputId": "754f867f-7ae7-4506-82e8-247b4f4a29b2"
      },
      "execution_count": 29,
      "outputs": [
        {
          "output_type": "execute_result",
          "data": {
            "application/vnd.google.colaboratory.intrinsic+json": {
              "type": "string"
            },
            "text/plain": [
              "'PREOPERATIVE DIAGNOSIS: , Recurrent bladder tumors.,POSTOPERATIVE DIAGNOSIS:,  Recurrent bladder tumors.,OPERATION: , Cystoscopy, TUR, and electrofulguration of recurrent bladder tumors.,ANESTHESIA:,  General.,INDICATIONS: , A 79-year-old woman with recurrent bladder tumors of the bladder neck.,DESCRIPTION OF PROCEDURE:  ,The patient was brought to the operating room, prepped and draped in lithotomy position under satisfactory general anesthesia.  A #21-French cystourethroscope was inserted into the bladder.  Examination of the bladder showed approximately a 3-cm area of erythema and recurrent papillomatosis just above and lateral to the left ureteral orifice.  No other lesions were noted.  Using a cold punch biopsy forceps, a random biopsy was obtained.  The entire area was electrofulgurated using the Bugbee electrode.  The patient tolerated the procedure well and left the operating room in satisfactory condition.'"
            ]
          },
          "metadata": {},
          "execution_count": 29
        }
      ]
    },
    {
      "cell_type": "code",
      "source": [
        "def clean_text(text): \n",
        "\n",
        "  text = text.translate(str.maketrans('', '', string.punctuation))\n",
        "  text1 = ''.join([w for w in text if not w.isdigit()]) \n",
        "  REPLACE_BY_SPACE_RE = re.compile('[/(){}\\[\\]\\|@,;]')\n",
        "  #BAD_SYMBOLS_RE = re.compile('[^0-9a-z #+_]')\n",
        "  \n",
        "  text2 = text1.lower()\n",
        "  text2 = REPLACE_BY_SPACE_RE.sub('', text2) # replace REPLACE_BY_SPACE_RE symbols by space in text\n",
        "  #text2 = BAD_SYMBOLS_RE.sub('', text2)\n",
        "  return text2"
      ],
      "metadata": {
        "id": "qgPbO7XbaYIA"
      },
      "execution_count": 75,
      "outputs": []
    },
    {
      "cell_type": "code",
      "source": [
        "## Testing \n",
        "\n",
        "t = \"Hello my name is #$% and my A-number is 1234432!!!\"\n",
        "t2 = clean_text(t)\n",
        "t2"
      ],
      "metadata": {
        "id": "lzOdbCo7RcXP",
        "colab": {
          "base_uri": "https://localhost:8080/",
          "height": 35
        },
        "outputId": "dfc44bcd-6988-4939-eef6-8529d2f6a594"
      },
      "execution_count": 76,
      "outputs": [
        {
          "output_type": "execute_result",
          "data": {
            "application/vnd.google.colaboratory.intrinsic+json": {
              "type": "string"
            },
            "text/plain": [
              "'hello my name is  and my anumber is '"
            ]
          },
          "metadata": {},
          "execution_count": 76
        }
      ]
    },
    {
      "cell_type": "code",
      "source": [
        "def lemmatizer(text):\n",
        "  wordlist=[]\n",
        "  lemmatizer = WordNetLemmatizer() \n",
        "  sentences=sent_tokenize(text)\n",
        "    \n",
        "  intial_sentences= sentences[0:1]\n",
        "  final_sentences = sentences[len(sentences)-2: len(sentences)-1]\n",
        "    \n",
        "  for sentence in intial_sentences:\n",
        "      words=word_tokenize(sentence)\n",
        "      for word in words:\n",
        "          wordlist.append(lemmatizer.lemmatize(word))\n",
        "  for sentence in final_sentences:\n",
        "      words=word_tokenize(sentence)\n",
        "      for word in words:\n",
        "          wordlist.append(lemmatizer.lemmatize(word))       \n",
        "  return ' '.join(wordlist)  "
      ],
      "metadata": {
        "id": "nV0kVwwzQrbt"
      },
      "execution_count": 82,
      "outputs": []
    },
    {
      "cell_type": "markdown",
      "source": [
        "Applying these two functions to clean the text:"
      ],
      "metadata": {
        "id": "WvKD7wslGH4c"
      }
    },
    {
      "cell_type": "code",
      "source": [
        "data['transcription'] = data['transcription'].apply(lemmatizer)\n",
        "data['transcription'] = data['transcription'].apply(clean_text)"
      ],
      "metadata": {
        "colab": {
          "base_uri": "https://localhost:8080/"
        },
        "id": "2744Bo4JHASD",
        "outputId": "21c6a0b7-158e-4f61-bce5-87c0c010ac60"
      },
      "execution_count": 83,
      "outputs": [
        {
          "output_type": "stream",
          "name": "stderr",
          "text": [
            "/usr/local/lib/python3.7/dist-packages/ipykernel_launcher.py:1: SettingWithCopyWarning: \n",
            "A value is trying to be set on a copy of a slice from a DataFrame.\n",
            "Try using .loc[row_indexer,col_indexer] = value instead\n",
            "\n",
            "See the caveats in the documentation: https://pandas.pydata.org/pandas-docs/stable/user_guide/indexing.html#returning-a-view-versus-a-copy\n",
            "  \"\"\"Entry point for launching an IPython kernel.\n",
            "/usr/local/lib/python3.7/dist-packages/ipykernel_launcher.py:2: SettingWithCopyWarning: \n",
            "A value is trying to be set on a copy of a slice from a DataFrame.\n",
            "Try using .loc[row_indexer,col_indexer] = value instead\n",
            "\n",
            "See the caveats in the documentation: https://pandas.pydata.org/pandas-docs/stable/user_guide/indexing.html#returning-a-view-versus-a-copy\n",
            "  \n"
          ]
        }
      ]
    },
    {
      "cell_type": "markdown",
      "source": [
        "#### **TF-IDF Matrix**"
      ],
      "metadata": {
        "id": "iI_nxqAbI4e4"
      }
    },
    {
      "cell_type": "code",
      "source": [
        "vectorizer = TfidfVectorizer(analyzer='word', stop_words='english', ngram_range=(1,3), max_df=0.75, smooth_idf=True, max_features=1000)\n",
        "tfIdfMat  = vectorizer.fit_transform(data['transcription'].tolist() )\n",
        "feature_names = sorted(vectorizer.get_feature_names())\n",
        "print(feature_names)"
      ],
      "metadata": {
        "colab": {
          "base_uri": "https://localhost:8080/"
        },
        "id": "VVo9ii5mOc4S",
        "outputId": "8d06b97e-8ed0-405a-de9b-0cdf10edb934"
      },
      "execution_count": 86,
      "outputs": [
        {
          "output_type": "stream",
          "name": "stdout",
          "text": [
            "['abc', 'abcd', 'abdomen', 'abdomen pelvis', 'abdominal', 'abdominal pain', 'abnormal', 'abnormality', 'abscess', 'activity', 'acute', 'additional', 'adenocarcinoma', 'adequate', 'administered', 'admission', 'admission diagnosis', 'admitted', 'admitting', 'admitting diagnosis', 'africanamerican', 'age', 'ago', 'airway', 'alcohol', 'allergy', 'alternative', 'anemia', 'anesthesia', 'anesthesia care', 'anesthesia general', 'anesthesia general endotracheal', 'anesthesia local', 'anesthetic', 'angina', 'angiography', 'ankle', 'anterior', 'antibiotic', 'aortic', 'apnea', 'apparent', 'appendicitis', 'applied', 'appointment', 'appropriate', 'approximately', 'area', 'arm', 'artery', 'artery disease', 'arthritis', 'arthroplasty', 'asked', 'aspect', 'aspiration', 'assessment', 'associated', 'atrial', 'atrial fibrillation', 'awakened', 'axial', 'axial ct', 'axial ct image', 'axis', 'baby', 'base', 'benefit', 'benign', 'better', 'bid', 'bilateral', 'bilaterally', 'biopsy', 'bladder', 'bladder tumor', 'bleeding', 'block', 'blood', 'blood loss', 'blood loss le', 'blood loss minimal', 'blood loss ml', 'blood loss wa', 'blood pressure', 'body', 'bone', 'bowel', 'boy', 'brain', 'breast', 'breath', 'breathing', 'brief', 'brief history', 'brief history patient', 'bronchoscopy', 'brought', 'brought operating', 'brought operating room', 'bunion', 'bypass', 'cancer', 'carcinoma', 'cardiac', 'care', 'care unit', 'carotid', 'carpal', 'carpal tunnel', 'carpal tunnel syndrome', 'case', 'cataract', 'cataract right', 'cataract right eye', 'catheter', 'catheterization', 'caucasian', 'caucasian female', 'caucasian male', 'cc', 'cc cc', 'cell', 'cell carcinoma', 'central', 'cervical', 'cervical spine', 'chamber', 'change', 'check', 'chest', 'chest pain', 'chief', 'chief complaint', 'child', 'cholecystectomy', 'cholecystitis', 'chronic', 'circumcision', 'clear', 'clinic', 'clinical', 'closed', 'closed vicryl', 'closure', 'cm', 'colon', 'colonoscopy', 'come', 'common', 'complaining', 'complaint', 'complete', 'completed', 'complex', 'complication', 'complication estimated', 'complication estimated blood', 'complication procedure', 'component', 'compression', 'concern', 'condition', 'consent', 'consent wa', 'consent wa obtained', 'consistent', 'consult', 'consultation', 'contact', 'continue', 'continued', 'contrast', 'contrast reason', 'contrast reason exam', 'control', 'cord', 'coronal', 'coronary', 'coronary artery', 'coronary artery disease', 'correct', 'cough', 'count', 'count correct', 'course', 'crystalloid', 'ct', 'ct abdomen', 'ct image', 'ct scan', 'culture', 'current', 'cyst', 'cystoscopy', 'daily', 'data', 'date', 'day', 'deep', 'defect', 'deformity', 'degenerative', 'delivery', 'denies', 'dental', 'department', 'depression', 'descending', 'description', 'description procedure', 'description procedure patient', 'developed', 'diabetes', 'diabetes mellitus', 'diagnosed', 'diagnosis', 'diagnosis acute', 'diagnosis bilateral', 'diagnosis cataract', 'diagnosis cataract right', 'diagnosis cervical', 'diagnosis chronic', 'diagnosis left', 'diagnosis patient', 'diagnosis patient wa', 'diagnosis recurrent', 'diagnosis right', 'diagnosis severe', 'diagnosis sponge', 'diagnosis wa', 'diagnostic', 'diameter', 'diarrhea', 'did', 'difficulty', 'direct', 'disc', 'discectomy', 'discharge', 'discharge diagnosis', 'discharged', 'discomfort', 'discussed', 'discussed patient', 'disease', 'disk', 'disorder', 'disposition', 'disposition patient', 'distal', 'distress', 'doe', 'doing', 'dorsal', 'dr', 'drain', 'drainage', 'draped', 'draped sterile', 'draped usual', 'dressing', 'dressing applied', 'dressing wa', 'dressing wa applied', 'drop', 'dysphagia', 'ear', 'echocardiogram', 'edema', 'effusion', 'ekg', 'elbow', 'elevated', 'emergency', 'emergency department', 'emergency room', 'end', 'end procedure', 'endoscopy', 'endotracheal', 'endotracheal anesthesia', 'endotracheal tube', 'endstage', 'endstage renal', 'endstage renal disease', 'epidural', 'episode', 'esophageal', 'estimated', 'estimated blood', 'estimated blood loss', 'evaluate', 'evaluation', 'evidence', 'exam', 'exam ct', 'exam mri', 'examination', 'excision', 'exercise', 'explained', 'explained patient', 'external', 'extraction', 'extremity', 'extubated', 'eye', 'eye postoperative', 'eye postoperative diagnosis', 'eye procedure', 'face', 'failure', 'fall', 'family', 'family history', 'fascia', 'fashion', 'felt', 'female', 'female history', 'female present', 'female wa', 'femoral', 'fetal', 'fever', 'fibrillation', 'final', 'finding', 'finding patient', 'finger', 'fixation', 'flow', 'fluid', 'foley', 'follow', 'followed', 'following', 'followup', 'foot', 'foramen', 'foreign', 'foreign body', 'fracture', 'free', 'french', 'function', 'fusion', 'general', 'general anesthesia', 'general endotracheal', 'general endotracheal anesthesia', 'gentleman', 'gi', 'given', 'going', 'good', 'good condition', 'grade', 'graft', 'greater', 'gross', 'ha', 'ha history', 'hand', 'hardware', 'having', 'head', 'headache', 'health', 'hearing', 'heart', 'heart rate', 'hematoma', 'hemorrhage', 'hemostasis', 'hernia', 'herniated', 'herniated nucleus', 'herniated nucleus pulposus', 'high', 'hip', 'history', 'history patient', 'history patient yearold', 'history present', 'history present illness', 'history yearold', 'home', 'hospital', 'hour', 'hx', 'hx yo', 'hx yo rhf', 'hx yo rhm', 'hydrocele', 'hypertension', 'hypertrophy', 'identified', 'ii', 'illness', 'illness patient', 'illness patient pleasant', 'illness patient yearold', 'illness yearold', 'illness yearold female', 'illness yearold male', 'image', 'imaging', 'implant', 'implantation', 'impression', 'incision', 'incision wa', 'including', 'increased', 'indication', 'indication operation', 'indication patient', 'indication patient yearold', 'indication procedure', 'indication procedure patient', 'indication surgery', 'indication surgery patient', 'indication yearold', 'infection', 'inferior', 'informed', 'informed consent', 'informed consent wa', 'inguinal', 'inguinal hernia', 'initially', 'injected', 'injection', 'injury', 'insertion', 'instructed', 'instruction', 'instrument', 'intact', 'internal', 'interpretation', 'interrupted', 'intervention', 'intraocular', 'intraocular lens', 'intraoperative', 'intravenous', 'irrigated', 'iv', 'joint', 'kidney', 'knee', 'known', 'laceration', 'lady', 'lap', 'laparoscopic', 'large', 'lateral', 'layer', 'le', 'le ml', 'left', 'left breast', 'left foot', 'left hip', 'left knee', 'left lower', 'left lower extremity', 'left shoulder', 'left upper', 'leg', 'length', 'lens', 'lesion', 'level', 'lidocaine', 'ligament', 'likely', 'liver', 'll', 'lobe', 'local', 'loss', 'loss le', 'loss le ml', 'loss minimal', 'loss ml', 'loss wa', 'low', 'low pain', 'lower', 'lower extremity', 'lower quadrant', 'lumbar', 'lung', 'lymph', 'lymph node', 'mac', 'male', 'male present', 'male wa', 'man', 'management', 'manner', 'marcaine', 'mass', 'medial', 'medical', 'medical history', 'medication', 'medium', 'mellitus', 'membrane', 'mental', 'metastatic', 'mg', 'middle', 'mild', 'minimal', 'minimal fluid', 'minute', 'ml', 'mm', 'moderate', 'mom', 'monitored', 'monocryl', 'month', 'monthold', 'morning', 'mother', 'motor', 'mouth', 'mr', 'mri', 'multiple', 'muscle', 'myocardial', 'nasal', 'nausea', 'nausea vomiting', 'neck', 'need', 'needed', 'needle', 'needle count', 'needle count correct', 'negative', 'nerve', 'neurologic', 'new', 'night', 'node', 'noncontrast', 'normal', 'nose', 'note', 'noted', 'nuclear', 'nucleus', 'nucleus pulposus', 'numbness', 'obstruction', 'obstructive', 'obtained', 'obtained patient', 'obtained patient wa', 'obtaining', 'office', 'old', 'onset', 'open', 'operating', 'operating room', 'operating room placed', 'operating table', 'operation', 'operation patient', 'operation performed', 'operative', 'operative procedure', 'oral', 'osteoarthritis', 'otitis', 'otitis medium', 'outpatient', 'ox', 'pacemaker', 'pacu', 'pain', 'pain history', 'pain history present', 'parent', 'partial', 'past', 'past medical', 'past medical history', 'patent', 'pathology', 'patient', 'patient ha', 'patient monthold', 'patient pleasant', 'patient pleasant yearold', 'patient present', 'patient tolerated', 'patient tolerated procedure', 'patient wa', 'patient wa brought', 'patient wa extubated', 'patient wa placed', 'patient wa taken', 'patient yearold', 'patient yearold africanamerican', 'patient yearold caucasian', 'patient yearold female', 'patient yearold gentleman', 'patient yearold male', 'patient yearold white', 'patient yearold woman', 'pelvic', 'pelvis', 'percutaneous', 'performed', 'performed patient', 'perfusion', 'period', 'persistent', 'phacoemulsification', 'physical', 'physical examination', 'physician', 'place', 'placed', 'placed supine', 'placed supine position', 'placement', 'plan', 'plate', 'pleasant', 'pleasant yearold', 'pleural', 'pleural effusion', 'pneumonia', 'point', 'polyp', 'position', 'positive', 'possible', 'post', 'posterior', 'postoperative', 'postoperative diagnosis', 'postoperative diagnosis bilateral', 'postoperative diagnosis left', 'postoperative diagnosis right', 'postprocedure', 'pregnancy', 'preoperative', 'preoperative diagnosis', 'preoperative diagnosis acute', 'preoperative diagnosis bilateral', 'preoperative diagnosis left', 'preoperative diagnosis patient', 'preoperative diagnosis right', 'preoperative diagnosis sponge', 'preoperative diagnosis wa', 'prepped', 'prepped draped', 'prepped draped usual', 'preprocedure', 'present', 'present illness', 'present illness patient', 'present illness yearold', 'present today', 'presentation', 'presented', 'presented emergency', 'presented emergency room', 'pressure', 'previous', 'previously', 'primary', 'prior', 'prn', 'problem', 'procedure', 'procedure bilateral', 'procedure informed', 'procedure informed consent', 'procedure left', 'procedure patient', 'procedure patient wa', 'procedure patient yearold', 'procedure performed', 'procedure right', 'procedure wa', 'procedure yearold', 'progressive', 'prostate', 'prostate cancer', 'protocol', 'proximal', 'pulmonary', 'pulposus', 'quadrant', 'question', 'radial', 'radiation', 'radiculopathy', 'rate', 'reason', 'reason consult', 'reason consultation', 'reason exam', 'reason visit', 'received', 'recent', 'recently', 'recommendation', 'recommended', 'reconstruction', 'recovery', 'recovery room', 'recovery room satisfactory', 'recovery room stable', 'recovery stable', 'rectal', 'recurrent', 'reduction', 'referral', 'referred', 'reflux', 'regarding', 'region', 'related', 'release', 'removal', 'removed', 'renal', 'renal disease', 'renal mass', 'repair', 'replacement', 'report', 'resection', 'residual', 'respiratory', 'result', 'return', 'returned', 'review', 'reviewed', 'rhf', 'rhm', 'right', 'right breast', 'right eye', 'right eye postoperative', 'right foot', 'right inguinal', 'right inguinal hernia', 'right knee', 'right lower', 'right shoulder', 'right upper', 'righthanded', 'risk', 'risk benefit', 'room', 'room placed', 'room placed supine', 'room satisfactory', 'room satisfactory condition', 'room stable', 'room stable condition', 'routine', 'rule', 'running', 'ruptured', 'satisfactory', 'satisfactory condition', 'scan', 'scope', 'screening', 'screw', 'second', 'secondary', 'sedation', 'seen', 'seizure', 'sent', 'service', 'severe', 'shortness', 'shortness breath', 'shoulder', 'showed', 'shunt', 'sign', 'significant', 'single', 'sinus', 'site', 'size', 'skin', 'skin wa', 'sleep', 'small', 'soft', 'soft tissue', 'space', 'specimen', 'speech', 'spinal', 'spine', 'spondylosis', 'sponge', 'sponge lap', 'sponge needle', 'sponge needle count', 'squamous', 'squamous cell', 'squamous cell carcinoma', 'stable', 'stable condition', 'stage', 'standard', 'started', 'state', 'status', 'status post', 'stenosis', 'stent', 'sterile', 'sterile dressing', 'sterile dressing applied', 'sterile fashion', 'steristrips', 'stitch', 'stomach', 'stone', 'stress', 'stress test', 'stroke', 'study', 'subcutaneous', 'subcutaneous tissue', 'subcuticular', 'subdural', 'subdural hematoma', 'subglottic', 'subjective', 'subjective patient', 'subjective patient yearold', 'subjective yearold', 'suite', 'summary', 'superior', 'supine', 'supine operating', 'supine position', 'surgery', 'surgery patient', 'surgical', 'suture', 'swelling', 'symptom', 'symptomatic', 'syndrome', 'table', 'taken', 'taken operating', 'taken operating room', 'taken recovery', 'taken recovery room', 'tear', 'technique', 'temporal', 'tendon', 'test', 'testis', 'therapy', 'thoracic', 'thyroid', 'tibial', 'time', 'tissue', 'title', 'title operation', 'today', 'tolerated', 'tolerated procedure', 'tolerated procedure wa', 'topical', 'total', 'total knee', 'tourniquet', 'tourniquet time', 'transferred', 'transferred recovery', 'treated', 'treatment', 'tube', 'tumor', 'tunnel', 'tunnel syndrome', 'type', 'ultrasound', 'underwent', 'unit', 'unremarkable', 'upper', 'upper extremity', 'upper lobe', 'urinary', 'urine', 'use', 'used', 'using', 'usual', 'usual fashion', 'valve', 'vein', 'venous', 'ventricular', 'versed', 'vicryl', 'vicryl suture', 'view', 'vision', 'visit', 'visual', 'vital', 'vital sign', 'vomiting', 'wa', 'wa admitted', 'wa applied', 'wa awakened', 'wa brought', 'wa brought operating', 'wa closed', 'wa extubated', 'wa given', 'wa injected', 'wa noted', 'wa obtained', 'wa obtained patient', 'wa performed', 'wa placed', 'wa prepped', 'wa prepped draped', 'wa referred', 'wa removed', 'wa seen', 'wa taken', 'wa taken operating', 'wa taken recovery', 'wa transferred', 'wa used', 'wall', 'weakness', 'week', 'week day', 'weight', 'white', 'white female', 'white male', 'woman', 'work', 'worsening', 'wound', 'wound wa', 'wrist', 'xray', 'xyz', 'year', 'year ago', 'year old', 'yearold', 'yearold africanamerican', 'yearold boy', 'yearold caucasian', 'yearold female', 'yearold female present', 'yearold gentleman', 'yearold male', 'yearold man', 'yearold white', 'yearold white female', 'yearold white male', 'yearold woman', 'yo', 'yo rhf', 'yo rhm']\n"
          ]
        },
        {
          "output_type": "stream",
          "name": "stderr",
          "text": [
            "/usr/local/lib/python3.7/dist-packages/sklearn/utils/deprecation.py:87: FutureWarning: Function get_feature_names is deprecated; get_feature_names is deprecated in 1.0 and will be removed in 1.2. Please use get_feature_names_out instead.\n",
            "  warnings.warn(msg, category=FutureWarning)\n"
          ]
        }
      ]
    },
    {
      "cell_type": "code",
      "source": [
        "len(feature_names)"
      ],
      "metadata": {
        "colab": {
          "base_uri": "https://localhost:8080/"
        },
        "id": "PduCdmMmPdqe",
        "outputId": "11e1d8c1-22e7-4eac-854d-3a88dca841c9"
      },
      "execution_count": 87,
      "outputs": [
        {
          "output_type": "execute_result",
          "data": {
            "text/plain": [
              "1000"
            ]
          },
          "metadata": {},
          "execution_count": 87
        }
      ]
    },
    {
      "cell_type": "code",
      "source": [
        "import gc \n",
        "gc.collect()\n",
        "tfI"
      ],
      "metadata": {
        "id": "WEO7k_XBRdEk"
      },
      "execution_count": null,
      "outputs": []
    }
  ]
}